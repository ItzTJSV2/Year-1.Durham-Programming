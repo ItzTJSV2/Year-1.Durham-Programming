{
 "cells": [
  {
   "cell_type": "markdown",
   "metadata": {},
   "source": [
    "## Algorithms and Data Structures Week 5\n",
    "\n",
    "\n",
    "This notebook is for implementing answers to questions 3 onwards.\n",
    "\n",
    "Question 3 is about hash tables and you are asked to create a python function ```hash``` that builds the hash table of size 13 given a list of keys using the hash function $h(k) = k \\mod 13$ and using linear probing to deal with collisions (on insertion).  That is given an input such as\n",
    "\n",
    "```python\n",
    "keys = [25,6,39,17,12,15,53]\n",
    "```\n",
    "\n",
    "if you evaluate\n",
    "\n",
    "```python\n",
    "hash(keys)\n",
    "```\n",
    "\n",
    "it should return\n",
    "\n",
    "```python\n",
    "[39, 12, 15, 53, 17, '-', 6, '-', '-', '-', '-', '-', 25]\n",
    "```\n",
    "\n",
    "Note that the hash table is a list where a null entry is indicated by the string ``'-'``.  Create ```hash``` using the function below.  The initialization of the empty hash table is done for you so you just need to add code that places each key in the input in the table."
   ]
  },
  {
   "cell_type": "code",
   "execution_count": 26,
   "metadata": {},
   "outputs": [],
   "source": [
    "def hash(d):\n",
    "    \"\"\"given a list d of integers returns a list of length 13\n",
    "    describing the hash table obtained when the hash function\n",
    "    h(k)=k mod 13 is applied to each integer k in d\"\"\"\n",
    "    #initialize table\n",
    "    table = ['-']*13\n",
    "    #\n",
    "    #now you do the rest\n",
    "    for x in range(len(d)):\n",
    "        if '-' not in table:\n",
    "            break\n",
    "        if d[x] not in table:\n",
    "            initValue = d[x] % 13 # i\n",
    "            if table[initValue] != \"-\": # Cell is taken\n",
    "                while True:\n",
    "                    initValue = (initValue + 1) % 13\n",
    "                    if table[initValue] == \"-\": # Cell is open\n",
    "                        table[initValue] = d[x]\n",
    "                        break\n",
    "            else:\n",
    "                table[initValue] = d[x]\n",
    "    return table"
   ]
  },
  {
   "cell_type": "markdown",
   "metadata": {},
   "source": [
    "Below is a function you can use to test the code you have written."
   ]
  },
  {
   "cell_type": "code",
   "execution_count": 28,
   "metadata": {},
   "outputs": [
    {
     "name": "stdout",
     "output_type": "stream",
     "text": [
      "all basic tests passed\n",
      "all tests involving duplicates passed\n",
      "now  we test inputs containing more integers than the size of the table\n",
      "you will wait forever if you have not considered this case\n",
      "all tests passed\n",
      "35: 9\n",
      "37: 10\n",
      "7: 8\n",
      "40: 5\n",
      "8: 2\n",
      "11: 10\n",
      "50: 10\n",
      "51: 4\n",
      "18: 7\n",
      "46: 8\n",
      "23: 3\n",
      "56: 0\n"
     ]
    }
   ],
   "source": [
    "def testq3():\n",
    "    assert hash([25,6,39,17,12,15,53]) == [39, 12, 15, 53, 17, '-', 6, '-', '-', '-', '-', '-', 25]\n",
    "    assert hash([0,1,2,3,4,5,6,7,8,9,10,11,12]) == [0, 1, 2, 3, 4, 5, 6, 7, 8, 9, 10, 11, 12]\n",
    "    assert hash([10,11,12,0,1,2,3,4,5,6,7,8,9]) == [0, 1, 2, 3, 4, 5, 6, 7, 8, 9, 10, 11, 12]\n",
    "    assert hash([-1,-2,-3]) == ['-', '-', '-', '-', '-', '-', '-', '-', '-', '-', -3, -2, -1]\n",
    "    assert hash([53,25,6,39,17,12,15]) == [39, 53, 12, 15, 17, '-', 6, '-', '-', '-', '-', '-', 25]\n",
    "    print (\"all basic tests passed\")\n",
    "    assert hash([25,6,39,17,12,15,53,53]) == [39, 12, 15, 53, 17, '-', 6, '-', '-', '-', '-', '-', 25]\n",
    "    assert hash([1,1,1,1,2,2,2,3,3,3]) == ['-', 1, 2, 3, '-', '-', '-', '-', '-', '-', '-', '-', '-']    \n",
    "    print (\"all tests involving duplicates passed\")\n",
    "    print (\"now  we test inputs containing more integers than the size of the table\")\n",
    "    print (\"you will wait forever if you have not considered this case\")\n",
    "    assert hash([0,1,2,3,4,5,6,7,8,9,10,11,12,13]) == [0, 1, 2, 3, 4, 5, 6, 7, 8, 9, 10, 11, 12]\n",
    "    assert hash([0,1,1,1,7,1,2,3,4,0,5,6,7,8,9,9,9,10,11,12,13]) == [0, 1, 2, 3, 4, 5, 6, 7, 8, 9, 10, 11, 12]\n",
    "    print (\"all tests passed\")\n",
    "    \n",
    "testq3()\n",
    "\n",
    "\n",
    "table1 = [35, 37, 7, 40, 8, 11, 50, 51, 18, 46, 23, 56]\n",
    "for x in range(len(table1)):\n",
    "    print(f\"{table1[x]}: {(7*table1[x] + 11) % 13}\")"
   ]
  }
 ],
 "metadata": {
  "kernelspec": {
   "display_name": "Python 3",
   "language": "python",
   "name": "python3"
  },
  "language_info": {
   "codemirror_mode": {
    "name": "ipython",
    "version": 3
   },
   "file_extension": ".py",
   "mimetype": "text/x-python",
   "name": "python",
   "nbconvert_exporter": "python",
   "pygments_lexer": "ipython3",
   "version": "3.9.6"
  }
 },
 "nbformat": 4,
 "nbformat_minor": 4
}
