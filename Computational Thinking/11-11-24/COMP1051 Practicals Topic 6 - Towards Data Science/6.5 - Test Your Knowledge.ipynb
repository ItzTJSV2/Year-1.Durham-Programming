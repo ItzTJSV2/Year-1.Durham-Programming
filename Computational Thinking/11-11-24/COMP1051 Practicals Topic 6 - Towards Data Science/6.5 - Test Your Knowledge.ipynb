{
 "cells": [
  {
   "cell_type": "markdown",
   "metadata": {},
   "source": [
    "## Test Your Knowledge\n",
    "\n",
    "In the blocks below you will find a range of questions that cover the material we've looked at in the previous notebooks, and build upon the knowledge gained in previous topics. Make sure you can do these tasks before you move on to the final topic. Like in the previous topic, these questions require more code and thought, and will probably take you longer than some of the questions you've seen before."
   ]
  },
  {
   "cell_type": "markdown",
   "metadata": {},
   "source": [
    "1. Below are two functions that solve problems that we have seen previously. They are different methods by which we can generate lists of prime numbers. Use the timing and profiling magic functions to determine how these algorithms scale as you change the size of the input. You could try doubling the value of maxPrime repeatedly and see how that impacts the data that is output. There is printing code commented out - you can uncomment this to prove the algorithms work, but for profiling it is best if these are commented."
   ]
  },
  {
   "cell_type": "code",
   "execution_count": null,
   "metadata": {},
   "outputs": [],
   "source": [
    "# Add the timing and profiling magic functions wherever you think appropriate\n",
    "\n",
    "def primeFunctionA(max):\n",
    "    for i in range(3,max,2):\n",
    "        prime = True\n",
    "        for j in range (3,i,2):\n",
    "            if i%j == 0:\n",
    "                prime = False\n",
    "                break\n",
    "        #if prime:\n",
    "        #    print(i, end = ', ')\n",
    "\n",
    "        \n",
    "def primeFunctionB(max):\n",
    "    L = [True] * ((max//2)-1)\n",
    "    counter = 3\n",
    "    for i in range(len(L)):\n",
    "        if L[i]:\n",
    "            for j in range(counter,len(L),counter):\n",
    "                if i+j < len(L):\n",
    "                    L[i+j] = False\n",
    "        counter += 2\n",
    "\n",
    "    #for i in range(len(L)):\n",
    "    #    if L[i]:\n",
    "    #        print(3+2*i, end = ', ')\n",
    "\n",
    "    \n",
    "maxPrime = 1000\n",
    "primeFunctionA(maxPrime)\n",
    "print(\"\")\n",
    "primeFunctionB(maxPrime)"
   ]
  },
  {
   "cell_type": "markdown",
   "metadata": {},
   "source": [
    "2. Use your knowledge of the random module to generate a list of random integers called `L`. You should be able to control the size of this list with a variable. Make a copy of your list using the copy module, and call it `L1`, so you have two independant copies of that list. Vary the size of your list using the variable you assigned for this purpose, and see how the performance of these functions scale as you change that size of the input list. You might notice some interesting differences between using quite small lists (under 200 elements) and larger lists (over 1000 elements). Patterns in the data are much easier to spot with large lists (over 100000 elements)\n"
   ]
  },
  {
   "cell_type": "code",
   "execution_count": null,
   "metadata": {},
   "outputs": [],
   "source": [
    "import numpy as np\n",
    "\n",
    "\n",
    "def pySort(L):\n",
    "    L.sort()\n",
    "    \n",
    "    \n",
    "def npSort(arr):\n",
    "    np.sort(arr)\n",
    "    \n",
    "    \n",
    "#----------------------------------------------------------------------------------------\n",
    "# Define L and L1, and add any imports you need to the top of the codeblock\n",
    "# Put your timing magic functions wherever seems most appropriate \n",
    "\n",
    "#----------------------------------------------------------------------------------------    \n",
    "    \n",
    "pySort(L)\n",
    "arr = np.asarray(L1)\n",
    "npSort(arr)\n",
    "    "
   ]
  },
  {
   "cell_type": "markdown",
   "metadata": {},
   "source": [
    "3. Using the string manipulation techniques seen in notebook 6.3, design a game of hangman. You should assign a string to a variable, and then blank out the letters in some way. Request a user to guess the letters and update the string on display to the user with every guess they make. This will test quite a few techniques that we have used previously! If you've done a lot of Python before and want to try drawing a hangman to go along with the guessing part feel free to do so."
   ]
  },
  {
   "cell_type": "code",
   "execution_count": null,
   "metadata": {},
   "outputs": [],
   "source": [
    "## YOUR CODE GOES HERE"
   ]
  },
  {
   "cell_type": "markdown",
   "metadata": {},
   "source": [
    "4. Design a simple substitution cipher using string manipulation. There are lots of ways to tackle this problem. An easy way to start might be to say that all plaintext messages are in capital letters, and encrypted text is in lower case. If you're feeling confident, turn it into a guessing game. Collect input from a user that allows them to suggest a replacement of one letter with another. You don't have to tell the user they are correct! You could implement an \"Undo\" feature, where you store their suggestions, and allow them to undo them. You can see that this could quickly become a large program, but this is the type of project you can spend a little time on to really get used to using lots of different aspects of Python."
   ]
  },
  {
   "cell_type": "code",
   "execution_count": null,
   "metadata": {},
   "outputs": [],
   "source": [
    "## YOUR CODE GOES HERE"
   ]
  },
  {
   "cell_type": "markdown",
   "metadata": {},
   "source": [
    "5. Using regular expressions, try to identify all of the emails in the file *emails.txt* that could be valid Durham University email addresses. Valid addresses can end with either *@durham.ac.uk* or *@dur.ac.uk*. They may start with `<forename>.<surname>` or `<forename>.<initial>.<surname>` or `<initial>.<initial>.<surname>` or `<username>`. You can use any many regular expressions as you like, but maybe try to see how few you can manage this in. \n",
    "\n",
    "NOTE: These emails addresses were mostly generated using randomlists.com, but there is a chance some of these are real emails. DO NOT under any circumstances try to send any emails to these addresses (except mine obviously, you are allowed to email me!)"
   ]
  },
  {
   "cell_type": "code",
   "execution_count": null,
   "metadata": {},
   "outputs": [],
   "source": [
    "## YOUR CODE GOES HERE"
   ]
  }
 ],
 "metadata": {
  "kernelspec": {
   "display_name": "Python 3 (ipykernel)",
   "language": "python",
   "name": "python3"
  },
  "language_info": {
   "codemirror_mode": {
    "name": "ipython",
    "version": 3
   },
   "file_extension": ".py",
   "mimetype": "text/x-python",
   "name": "python",
   "nbconvert_exporter": "python",
   "pygments_lexer": "ipython3",
   "version": "3.12.2"
  }
 },
 "nbformat": 4,
 "nbformat_minor": 4
}
