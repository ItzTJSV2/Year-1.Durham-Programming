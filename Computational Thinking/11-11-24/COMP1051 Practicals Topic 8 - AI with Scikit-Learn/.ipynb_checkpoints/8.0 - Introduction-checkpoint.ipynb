{
 "cells": [
  {
   "cell_type": "markdown",
   "metadata": {},
   "source": [
    "<br>\n",
    "\n",
    "## Topic 8: AI with Scikit-Learn\n",
    "\n",
    "We have now covered all of the essential content required for this module. This topic, and any subsequent topics, provide some extended reading and examples of how to use Python, the various modules that we have seen, and more besides, in order to solve more complicated problems.\n",
    "\n",
    "We will use our knowledge of NumPy and Matplotlib specifically in this topic, as well as introduce a new module called *sklearn* (or Scikit-Learn), as we start to look at AI in Python. As we work through this topic we will see how to construct some simple machine learning algorithms usnig sklearn. Modern machine learning in industry or academia is more concerned with Deep Learning, where we will use modules such as PyTorch and Tensorflow, backed by powerful GPUs.  \n",
    "There are a considerable amount of materials online for machine learning, deep learning and the use of PyTorch and Tensorflow. Students will often dive straight into these tutorials, with only a minimal understanding of the underlying principles. However, we will start with something more basic to gain an insight into how the programming and techniques should work. We will try to outline these first principles of machine learning with some Python examples.\n",
    "\n",
    "These extension topics will not contain any \"Test Your Knowledge\" notebooks, but you should take any knowledge learned here and try to apply it to some real-world problem. There are many datasets freely available online for you to try out the different techniques you will see in this topic.\n",
    "\n",
    "As always, if you encounter errors that you cannot figure out, or you want something explaining, then please ask you lab demonstrator or discuss things with other students in your lab.\n"
   ]
  },
  {
   "cell_type": "markdown",
   "metadata": {},
   "source": [
    "\n",
    "\n",
    "### Learning Objectives\n",
    "\n",
    "By the end of this topic you should understand the basics of AI using Python and sklearn. You should be capable of applying sklearn, alongside the Python modules we have studied previously, to a new application, that of basic machine learning. By the end of this topic you should be able to take a previously unseen dataset and at least consider how you might go about developing machine learning algorithms to explore that data and gain useful insights.\n",
    "You should work through these notebooks in your own time:\n",
    "* 8.1 - An Introduction to AI\n",
    "* 8.2 - Scikit-Learn\n",
    "* 8.3 - Hyperparameters and Model Validation\n",
    "\n",
    "If you've studied Python before, and already covered this type of content, I suggest you continue to work on the self-study project that you've likely been working on for the previous few weeks. Please refer to the list of suggestions on Learn Ultra if you've now got to the point where you would like to apply your Python knowledge to something different.\n",
    "\n",
    " "
   ]
  }
 ],
 "metadata": {
  "kernelspec": {
   "display_name": "Python 3 (ipykernel)",
   "language": "python",
   "name": "python3"
  },
  "language_info": {
   "codemirror_mode": {
    "name": "ipython",
    "version": 3
   },
   "file_extension": ".py",
   "mimetype": "text/x-python",
   "name": "python",
   "nbconvert_exporter": "python",
   "pygments_lexer": "ipython3",
   "version": "3.12.2"
  }
 },
 "nbformat": 4,
 "nbformat_minor": 4
}
