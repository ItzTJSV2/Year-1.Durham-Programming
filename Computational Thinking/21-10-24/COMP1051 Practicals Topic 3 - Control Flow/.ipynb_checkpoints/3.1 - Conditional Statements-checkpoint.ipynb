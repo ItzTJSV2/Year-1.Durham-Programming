{
 "cells": [
  {
   "cell_type": "markdown",
   "metadata": {},
   "source": [
    "## Conditional Statements\n",
    "\n",
    "Conditions statements in programming give us an option on what code should be executed and what shouldn't, given a certain condition. This allows us to make decisions in our code based on the data that we encounter. A common phrase you'll see when learning conditionals is: \"if this, then that\".  \n",
    "\n",
    "This would be an example of a one-way if statement as they are referred to in the Perkovic text book. We will see through the course of this notebook that not only can we use one-way if statements like these in Python, but also two-way if statements, and the nesting of if statements inside one another to allow for more complex decision making. Key to all of this is the use of indentation in Python, as it explicitly describes what code is inside a conditional and therefore should be executed if the condition is met.\n",
    "\n",
    "Let us start with a simple example:"
   ]
  },
  {
   "cell_type": "code",
   "execution_count": 3,
   "metadata": {},
   "outputs": [
    {
     "name": "stdout",
     "output_type": "stream",
     "text": [
      "Its very cold today!\n",
      "Have a good day.\n"
     ]
    }
   ],
   "source": [
    "temp = 2\n",
    "\n",
    "if (temp < 5):\n",
    "    print(\"Its very cold today!\")\n",
    "print(\"Have a good day.\")"
   ]
  },
  {
   "cell_type": "markdown",
   "metadata": {},
   "source": [
    "When we run this code block we should get two print statements back, but if you change the variable `temp` to have the value 10, you will notice you only get a single message printed out. This is the basic concept of a conditional statement, the statement `print(\"Its very cold today!\")` will only print if the condition is met. The condition is this case if a comparison operation between the variable `temp` and the integer `5`. This comparison will evaluate to a boolean, either `True` or `False`. \n",
    "\n",
    "Our code follows this notation: <br>\n",
    "`if <condition>:\n",
    "    <indented code block>\n",
    " <non-indented code>`\n",
    " \n",
    "The statements in the indented code block are only executed if the condition evaluates to `True`. Otherwise we ignore the indented code block and continue to the next piece of non-indented code. In our example we only had a single statement in our indented code block, though we could have as many statements as we like in here, including more if statements as we'll see later on!\n",
    "\n",
    "You might be asking now, what do we mean by indentation? In Python, indentation is a language feature, rather than being purely cosmetic like in most other programming languages. It identifies blocks of code, in the same way as curly brackets do in other languages.\n",
    "There are two conventions for indentation in Python:\n",
    "1. Use the tab key.\n",
    "2. Use spaces - generaly 4 spaces, though any fixed number will work.\n",
    "\n",
    "In the example above we used the tab key to indent the print statement. I could similarly write the same code using space-based indentation, lets use a single space.\n",
    " "
   ]
  },
  {
   "cell_type": "code",
   "execution_count": 1,
   "metadata": {},
   "outputs": [
    {
     "name": "stdout",
     "output_type": "stream",
     "text": [
      "Its very cold today!\n",
      "Have a good day.\n"
     ]
    }
   ],
   "source": [
    "temp = 2\n",
    "\n",
    "if (temp < 5):\n",
    " print(\"Its very cold today!\")\n",
    "print(\"Have a good day.\")"
   ]
  },
  {
   "cell_type": "markdown",
   "metadata": {},
   "source": [
    "The code will still run, however it generally looks less clear which code is indented, and which is not. Above all it is best to be consistent with your method of indenting code. Pick your preferred method, and stick to it throughout your programming. We'll see, and mention, more about indentation as we work through more examples."
   ]
  },
  {
   "cell_type": "markdown",
   "metadata": {},
   "source": [
    "Ok, so lets take a closer look at the conditional statement itself. We said earlier that this is an example of a one-way if statement, but what does that actually mean? Let's take a look at the image below:\n",
    "\n",
    "<img align=\"centre\" style=\"padding-right:50px;\" src=\"images/OneWayIf.png\" width=\"500\">\n",
    "\n",
    "If the condition is true, we have a code block to execute, in our case it is just a single statement. Otherwise, we skip past the indented section of code, and continue to the next statement. There is only one branch in this diagram, hence calling it a one-way if statement.\n",
    "\n",
    "Using this format of diagram, we can easily see what happens if we get our indentation wrong. Consider the code block below:"
   ]
  },
  {
   "cell_type": "code",
   "execution_count": 3,
   "metadata": {},
   "outputs": [],
   "source": [
    "temp = 10\n",
    "\n",
    "if (temp < 5):\n",
    "    print(\"Its very cold today!\")\n",
    "    print(\"Have a good day.\")"
   ]
  },
  {
   "cell_type": "markdown",
   "metadata": {},
   "source": [
    "If we run this code nothing happens! Due to our indentation, both of the print statements are now inside the indented code block. Our diagram would now look like this:\n",
    "\n",
    "<img align=\"centre\" style=\"padding-right:50px;\" src=\"images/OneWayIfIndent.png\" width=\"350\">\n",
    "\n",
    "Hopefully the images help make the situation clearer with regards to how we should indent our code. If you change the value of `temp` you should be able to make both of the print statements execute. "
   ]
  },
  {
   "cell_type": "markdown",
   "metadata": {},
   "source": [
    "Let us now introduce the Python keyword `else`. This will allow us to build what the Perkovic textbook refers to as two-way if statements, so we can execute a specific code block if the condition is true, or a different code block if the condition is false. Again, our indentation will be important to tell Python what statements are in each code block. \n",
    "\n",
    "Our code will now follow this notation:<br>\n",
    "`if <condition>:\n",
    "    <indented code block>\n",
    " else:\n",
    "    <indented code block>\n",
    " <non-indented code>`\n"
   ]
  },
  {
   "cell_type": "code",
   "execution_count": 4,
   "metadata": {},
   "outputs": [
    {
     "name": "stdout",
     "output_type": "stream",
     "text": [
      "Its very cold today!\n",
      "Have a good day.\n"
     ]
    }
   ],
   "source": [
    "temp = 2\n",
    "\n",
    "if (temp < 5):\n",
    "    print(\"Its very cold today!\")\n",
    "else:\n",
    "    print(\"Its warm for Durham!\")\n",
    "print(\"Have a good day.\")"
   ]
  },
  {
   "cell_type": "markdown",
   "metadata": {},
   "source": [
    "We can represent this code using the image below:\n",
    "\n",
    "<img align=\"centre\" style=\"padding-right:50px;\" src=\"images/TwoWayIf.png\" width=\"600\">"
   ]
  }
 ],
 "metadata": {
  "kernelspec": {
   "display_name": "Python 3",
   "language": "python",
   "name": "python3"
  },
  "language_info": {
   "codemirror_mode": {
    "name": "ipython",
    "version": 3
   },
   "file_extension": ".py",
   "mimetype": "text/x-python",
   "name": "python",
   "nbconvert_exporter": "python",
   "pygments_lexer": "ipython3",
   "version": "3.6.9"
  }
 },
 "nbformat": 4,
 "nbformat_minor": 4
}
