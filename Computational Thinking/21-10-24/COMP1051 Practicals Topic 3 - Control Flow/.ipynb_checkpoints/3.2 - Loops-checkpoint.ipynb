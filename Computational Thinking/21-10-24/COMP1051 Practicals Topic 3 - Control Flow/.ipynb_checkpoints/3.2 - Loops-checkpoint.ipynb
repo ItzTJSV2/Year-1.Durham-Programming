{
 "cells": [
  {
   "cell_type": "markdown",
   "metadata": {},
   "source": [
    "## Loops\n",
    "\n",
    "Loops in programming give us an option to repeat a section of code, either for a fixed number of times, or more generally until a certain condition is met. Python gives us two keywords for creating loops in our code, and they are `for` and `while`. In most situations you can use these interchangeably, however the usual convention is to use a for loop when you know how many times you want to repeat the execution of your code block (i.e. you repeat things a fixed number of times) and use a while loop when repeating a code block for an unknown number of times, until a condition is met.\n"
   ]
  },
  {
   "cell_type": "markdown",
   "metadata": {},
   "source": [
    "### For Loops\n",
    "\n",
    "We'll start by looking at for loops. In the example below, we take a list of integers, and we want to print them all out. We could do this just using the indexing operator that we have seen previously, but that requires us knowing the size of the list in advance to make sure we have enough print statements to print out every element. However, using a for loop it won't matter how many elements are in our list, Python will handle things for us."
   ]
  },
  {
   "cell_type": "code",
   "execution_count": null,
   "metadata": {},
   "outputs": [],
   "source": [
    "L = [5,8,2,6,1,7,3,4]\n",
    "\n",
    "for e in L:\n",
    "    print(e)"
   ]
  },
  {
   "cell_type": "markdown",
   "metadata": {},
   "source": [
    "In this notation the variable `e` only exists inside this loop, and it will hold one element from the list `L` at a time. The keyword `in` makes the statement read sensibly, and gives you some intuition in to what Python is trying to do. The object to the right of `in` in our code is a list, and a list is an example of an iterable object in Python. We're not going to go into any details on Iterators and iterable objects - but we should be aware that of the data types and data structures we have already seen, the following are iterable objects:\n",
    "1. Lists\n",
    "2. Tuples\n",
    "3. Dictionaries\n",
    "4. Sets\n",
    "5. Strings\n",
    "\n",
    "<br>\n",
    "\n",
    "When using a for loop, we should always have the general structure:<br>\n",
    "`for <variable> in <sequence>:\n",
    "    <indented code block>\n",
    " <non-indented code>`\n",
    " \n",
    "The sequence always has to be an iterable object, so our code example worked because a list is an iterable data structure. The general idea is that the code looks at each element of the list in turn, and temporarily stores that elements in the variable `e`. We can use that variable in the indented code within our loop, and then once we have finished all of the indented code, we return to the for loop, grab the next element of our list, place that in the variable `e` and continue. Once we've used all of the elements of the list, we move on to the non-indented code that follows the for loop.\n",
    " \n",
    "If I wanted to do something slightly more interesting, I could take all of the elements of the list, sum them up, and print the sum as in the example below:"
   ]
  },
  {
   "cell_type": "code",
   "execution_count": null,
   "metadata": {},
   "outputs": [],
   "source": [
    "L = [5,8,2,6,1,7,3,4]\n",
    "sum = 0\n",
    "\n",
    "for e in L:\n",
    "    sum = sum + e\n",
    "    \n",
    "print(sum)"
   ]
  },
  {
   "cell_type": "markdown",
   "metadata": {},
   "source": [
    "We take each element of the list in turn, store it in the variable `e` and then add it to `sum`. Once we have used all of the values in the list, the loop will end, and the print statement will be executed, telling us the sum of all of the numbers in our input list.\n",
    "\n",
    "<br>\n",
    "\n",
    "You will notice above we said that a string is an iterable object. It is iterable in the sense that each character can be treated as an individual element, so the code we used originally on a list, we can also use on a string."
   ]
  },
  {
   "cell_type": "code",
   "execution_count": null,
   "metadata": {},
   "outputs": [],
   "source": [
    "S = \"Hello World\"\n",
    "\n",
    "for s in S:\n",
    "    print(s)"
   ]
  },
  {
   "cell_type": "markdown",
   "metadata": {},
   "source": [
    "For loops don't really get any more complicated than that! However, there is one more iterable object you should be aware of, as it is particularly useful, and that is the range object. We can use the `range` function to generate a range object, which we can consider as a sequence of values that are iterable. Below we create a range object using the `range` function. If we print out the variable `x`, and the type of `x` we see the information returned isn't all that useful."
   ]
  },
  {
   "cell_type": "code",
   "execution_count": 7,
   "metadata": {},
   "outputs": [
    {
     "name": "stdout",
     "output_type": "stream",
     "text": [
      "range(0, 10, 2)\n"
     ]
    },
    {
     "data": {
      "text/plain": [
       "range"
      ]
     },
     "execution_count": 7,
     "metadata": {},
     "output_type": "execute_result"
    }
   ],
   "source": [
    "x = range(0,10)\n",
    "print(x)\n",
    "type(x)"
   ]
  },
  {
   "cell_type": "markdown",
   "metadata": {},
   "source": [
    "If we use `x` in a for loop however, it suddenly starts to do useful things for us!"
   ]
  },
  {
   "cell_type": "code",
   "execution_count": null,
   "metadata": {},
   "outputs": [],
   "source": [
    "for i in x:\n",
    "    print(i)"
   ]
  }
 ],
 "metadata": {
  "kernelspec": {
   "display_name": "Python 3",
   "language": "python",
   "name": "python3"
  },
  "language_info": {
   "codemirror_mode": {
    "name": "ipython",
    "version": 3
   },
   "file_extension": ".py",
   "mimetype": "text/x-python",
   "name": "python",
   "nbconvert_exporter": "python",
   "pygments_lexer": "ipython3",
   "version": "3.6.9"
  }
 },
 "nbformat": 4,
 "nbformat_minor": 4
}
