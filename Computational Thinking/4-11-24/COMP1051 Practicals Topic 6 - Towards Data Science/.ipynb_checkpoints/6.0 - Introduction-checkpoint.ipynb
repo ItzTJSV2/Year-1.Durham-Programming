{
 "cells": [
  {
   "cell_type": "markdown",
   "metadata": {},
   "source": [
    "<br>\n",
    "\n",
    "## Topic 6: Towards Data Science\n",
    "\n",
    "In the first five topics we have covered all of the content we need for writing relatively complex programs in Python. With these techniques you should be able to find a solution to the vast majority of problems you are presented with. \n",
    "\n",
    "Now we want to move beyond just finding a solution to a given problem, and we should start considering the efficiency of our solutions. For the small pieces of code we have developed so far we didn't really care about how efficient our code was in terms of computational complexity or memory efficiency. However, as your programs, and moreso your inputs, grow in size, we should be interested in how well our code scales. \n",
    "\n",
    "There are two things we can do to improve the efficiency of our code in Python. The first is to gather some data using the timers and profilers provided by Python and Jupyter. We can use this data to find the bottlenecks in our programs and target our improvements on those areas. The second option is to use highly optimised third-party modules to help solve our problems, as ever in Python there is no point reinventing the wheel! There are modules and packages beyond those that we have already seen that are excellent for use in Data Science, mainly due to their range of applications and computational efficiency. Regardless of the problem you are trying to solve there is probably a scientific package to help you!\n",
    "\n",
    "The notebooks you will see in this topic are adapted from notebook 01.07 of the Python Data Science Handbook, and notebooks 14 and 15 of the Whirlwind Tour of Python, all written by Jake Vanderplas. You can refer to these originals for any additional detail as we will be using cut down and edited versions.\n",
    "\n",
    "\n",
    "As always, if you encounter errors that you cannot figure out, or you want something explaining, then please ask you lab demonstrator for help.\n"
   ]
  },
  {
   "cell_type": "markdown",
   "metadata": {},
   "source": [
    "\n",
    "\n",
    "### Learning Objectives\n",
    "\n",
    "By the end of this topic you should understand how to time and profile your code to find bottlenecks that could lead to improving the performance of your code. You should be confident in using and manipulating strings, and understand how to use regular expressions for pattern matching. Finally you should appreciate and be aware of some of the most useful scientific computing packages available for Python, some of which we will take a deeper look at in the next topic of this course.\n",
    "\n",
    "As usual we'll look at lots of examples to help you practice and reinforce your knowledge. You should work through these notebooks in your own time:\n",
    "* 6.1 - Timing and Profiling\n",
    "* 6.2 - Timing with the timeit Module\n",
    "* 6.3 - Strings and Regular Expressions\n",
    "* 6.4 - Preview of Data Science Tools\n",
    "* 6.5 - Test Your Knowledge\n",
    "\n",
    "If you've studied Python before, you may still find sections of this topic useful as they are based around functionality provided by Jupyter and the IPython kernel, which you may not have seen previously. If you are confident in your knowledge, you should take a glance at the notebooks, and make sure you can complete the exercises in the final notebook. "
   ]
  }
 ],
 "metadata": {
  "kernelspec": {
   "display_name": "Python 3 (ipykernel)",
   "language": "python",
   "name": "python3"
  },
  "language_info": {
   "codemirror_mode": {
    "name": "ipython",
    "version": 3
   },
   "file_extension": ".py",
   "mimetype": "text/x-python",
   "name": "python",
   "nbconvert_exporter": "python",
   "pygments_lexer": "ipython3",
   "version": "3.12.2"
  }
 },
 "nbformat": 4,
 "nbformat_minor": 4
}
